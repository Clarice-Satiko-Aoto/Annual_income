{
 "cells": [
  {
   "cell_type": "markdown",
   "id": "0adc2f07",
   "metadata": {},
   "source": [
    "# Salary predictor"
   ]
  },
  {
   "cell_type": "markdown",
   "id": "47d57a50",
   "metadata": {},
   "source": [
    "Original dataset from: https://www.kaggle.com/datasets/johnolafenwa/us-census-data/versions/1?resource=download"
   ]
  },
  {
   "cell_type": "markdown",
   "id": "7e5b9c80",
   "metadata": {},
   "source": [
    "**Problema de negócio**: Predizer o salário anual (se maior ou menor que 50k) baseado nos dados coletados\n",
    "\n",
    "**Storytelling** : Uma multinacional quer reestruturar o plano de carreira e de salário (anual) dos seus colaboradores. Sabe-se que o valor salarial tem uma correlação diretamente proporcional ao nível escolar, hard skills e atualmente, conta também com a soft skills.\n"
   ]
  },
  {
   "cell_type": "markdown",
   "id": "29294d2d",
   "metadata": {},
   "source": [
    "## Conhecendo os dados"
   ]
  },
  {
   "cell_type": "code",
   "execution_count": 1,
   "id": "d2b8c66a",
   "metadata": {},
   "outputs": [],
   "source": [
    "#importando as bibliotecas necessárias\n",
    "\n",
    "import pandas as pd\n",
    "import numpy as np\n",
    "import matplotlib.pyplot as plt\n",
    "import seaborn as sns\n",
    "import warnings\n",
    "\n",
    "warnings.filterwarnings('ignore')"
   ]
  },
  {
   "cell_type": "code",
   "execution_count": 2,
   "id": "b3fc09fd",
   "metadata": {
    "scrolled": false
   },
   "outputs": [
    {
     "name": "stdout",
     "output_type": "stream",
     "text": [
      "O dataset de treino contém   (32561, 15) (linhas x colunas)\n"
     ]
    }
   ],
   "source": [
    "#Carregando os arquivos de treino e de teste\n",
    "\n",
    "df_treino = pd.read_csv('adult-training.csv', header= None)\n",
    "\n",
    "\n",
    "print(f'O dataset de treino contém  ', df_treino.shape, '(linhas x colunas)')\n"
   ]
  },
  {
   "cell_type": "markdown",
   "id": "9fc1032a",
   "metadata": {},
   "source": [
    "### Explorando o df_treino"
   ]
  },
  {
   "cell_type": "code",
   "execution_count": 3,
   "id": "1b7c3ddb",
   "metadata": {},
   "outputs": [
    {
     "data": {
      "text/html": [
       "<div><div id=fa43ab8b-c6c2-4d5f-9bd8-c924fca0588b style=\"display:none; background-color:#9D6CFF; color:white; width:200px; height:30px; padding-left:5px; border-radius:4px; flex-direction:row; justify-content:space-around; align-items:center;\" onmouseover=\"this.style.backgroundColor='#BA9BF8'\" onmouseout=\"this.style.backgroundColor='#9D6CFF'\" onclick=\"window.commands?.execute('create-mitosheet-from-dataframe-output');\">See Full Dataframe in Mito</div> <script> if (window.commands.hasCommand('create-mitosheet-from-dataframe-output')) document.getElementById('fa43ab8b-c6c2-4d5f-9bd8-c924fca0588b').style.display = 'flex' </script> <table border=\"1\" class=\"dataframe\">\n",
       "  <thead>\n",
       "    <tr style=\"text-align: right;\">\n",
       "      <th></th>\n",
       "      <th>0</th>\n",
       "      <th>1</th>\n",
       "      <th>2</th>\n",
       "      <th>3</th>\n",
       "      <th>4</th>\n",
       "      <th>5</th>\n",
       "      <th>6</th>\n",
       "      <th>7</th>\n",
       "      <th>8</th>\n",
       "      <th>9</th>\n",
       "      <th>10</th>\n",
       "      <th>11</th>\n",
       "      <th>12</th>\n",
       "      <th>13</th>\n",
       "      <th>14</th>\n",
       "    </tr>\n",
       "  </thead>\n",
       "  <tbody>\n",
       "    <tr>\n",
       "      <th>0</th>\n",
       "      <td>39</td>\n",
       "      <td>State-gov</td>\n",
       "      <td>77516</td>\n",
       "      <td>Bachelors</td>\n",
       "      <td>13</td>\n",
       "      <td>Never-married</td>\n",
       "      <td>Adm-clerical</td>\n",
       "      <td>Not-in-family</td>\n",
       "      <td>White</td>\n",
       "      <td>Male</td>\n",
       "      <td>2174</td>\n",
       "      <td>0</td>\n",
       "      <td>40</td>\n",
       "      <td>United-States</td>\n",
       "      <td>&lt;=50K</td>\n",
       "    </tr>\n",
       "    <tr>\n",
       "      <th>1</th>\n",
       "      <td>50</td>\n",
       "      <td>Self-emp-not-inc</td>\n",
       "      <td>83311</td>\n",
       "      <td>Bachelors</td>\n",
       "      <td>13</td>\n",
       "      <td>Married-civ-spouse</td>\n",
       "      <td>Exec-managerial</td>\n",
       "      <td>Husband</td>\n",
       "      <td>White</td>\n",
       "      <td>Male</td>\n",
       "      <td>0</td>\n",
       "      <td>0</td>\n",
       "      <td>13</td>\n",
       "      <td>United-States</td>\n",
       "      <td>&lt;=50K</td>\n",
       "    </tr>\n",
       "    <tr>\n",
       "      <th>2</th>\n",
       "      <td>38</td>\n",
       "      <td>Private</td>\n",
       "      <td>215646</td>\n",
       "      <td>HS-grad</td>\n",
       "      <td>9</td>\n",
       "      <td>Divorced</td>\n",
       "      <td>Handlers-cleaners</td>\n",
       "      <td>Not-in-family</td>\n",
       "      <td>White</td>\n",
       "      <td>Male</td>\n",
       "      <td>0</td>\n",
       "      <td>0</td>\n",
       "      <td>40</td>\n",
       "      <td>United-States</td>\n",
       "      <td>&lt;=50K</td>\n",
       "    </tr>\n",
       "  </tbody>\n",
       "</table></div>"
      ],
      "text/plain": [
       "   0                  1       2           3   4                    5   \\\n",
       "0  39          State-gov   77516   Bachelors  13        Never-married   \n",
       "1  50   Self-emp-not-inc   83311   Bachelors  13   Married-civ-spouse   \n",
       "2  38            Private  215646     HS-grad   9             Divorced   \n",
       "\n",
       "                   6               7       8      9     10  11  12  \\\n",
       "0        Adm-clerical   Not-in-family   White   Male  2174   0  40   \n",
       "1     Exec-managerial         Husband   White   Male     0   0  13   \n",
       "2   Handlers-cleaners   Not-in-family   White   Male     0   0  40   \n",
       "\n",
       "               13      14  \n",
       "0   United-States   <=50K  \n",
       "1   United-States   <=50K  \n",
       "2   United-States   <=50K  "
      ]
     },
     "execution_count": 3,
     "metadata": {},
     "output_type": "execute_result"
    }
   ],
   "source": [
    "df_treino.head(3)"
   ]
  },
  {
   "cell_type": "code",
   "execution_count": 4,
   "id": "721cbc22",
   "metadata": {},
   "outputs": [],
   "source": [
    "#Criando nome dos atributos:\n",
    "df_treino.rename(columns= {0:'age',\n",
    "                           1: 'work_class',\n",
    "                           2:'fnlwgt',\n",
    "                           3:'education', \n",
    "                           4:'education_num', \n",
    "                           5:'marital_status', \n",
    "                           6:'occupation',\n",
    "                           7:'relationship',\n",
    "                           8:'race',\n",
    "                           9:'sex',\n",
    "                           10:'capital_gain',\n",
    "                           11:'capital_loss',\n",
    "                           12:'hours_per_week',\n",
    "                           13:'native_country',\n",
    "                           14:'annual_income'},\n",
    "                           inplace=True)"
   ]
  },
  {
   "cell_type": "markdown",
   "id": "8cd0d84c",
   "metadata": {},
   "source": [
    "### Explorando o df_teste"
   ]
  },
  {
   "cell_type": "code",
   "execution_count": 5,
   "id": "b7547a65",
   "metadata": {},
   "outputs": [
    {
     "name": "stdout",
     "output_type": "stream",
     "text": [
      "O dataset de teste contém   (16281, 15) (linhas x colunas)\n"
     ]
    }
   ],
   "source": [
    "df_teste= pd.read_csv('adult-test.csv',  header= None)\n",
    "\n",
    "print(f'O dataset de teste contém  ', df_teste.shape, '(linhas x colunas)')"
   ]
  },
  {
   "cell_type": "code",
   "execution_count": 6,
   "id": "3bb727cb",
   "metadata": {},
   "outputs": [
    {
     "name": "stdout",
     "output_type": "stream",
     "text": [
      "<class 'pandas.core.frame.DataFrame'>\n",
      "RangeIndex: 16281 entries, 0 to 16280\n",
      "Data columns (total 15 columns):\n",
      " #   Column  Non-Null Count  Dtype \n",
      "---  ------  --------------  ----- \n",
      " 0   0       16281 non-null  int64 \n",
      " 1   1       16281 non-null  object\n",
      " 2   2       16281 non-null  int64 \n",
      " 3   3       16281 non-null  object\n",
      " 4   4       16281 non-null  int64 \n",
      " 5   5       16281 non-null  object\n",
      " 6   6       16281 non-null  object\n",
      " 7   7       16281 non-null  object\n",
      " 8   8       16281 non-null  object\n",
      " 9   9       16281 non-null  object\n",
      " 10  10      16281 non-null  int64 \n",
      " 11  11      16281 non-null  int64 \n",
      " 12  12      16281 non-null  int64 \n",
      " 13  13      16281 non-null  object\n",
      " 14  14      16281 non-null  object\n",
      "dtypes: int64(6), object(9)\n",
      "memory usage: 1.9+ MB\n"
     ]
    }
   ],
   "source": [
    "df_teste.info()"
   ]
  },
  {
   "cell_type": "code",
   "execution_count": 7,
   "id": "f215040c",
   "metadata": {},
   "outputs": [
    {
     "data": {
      "text/html": [
       "<div><div id=543899bf-ff18-45fe-ba8e-5e62c4155398 style=\"display:none; background-color:#9D6CFF; color:white; width:200px; height:30px; padding-left:5px; border-radius:4px; flex-direction:row; justify-content:space-around; align-items:center;\" onmouseover=\"this.style.backgroundColor='#BA9BF8'\" onmouseout=\"this.style.backgroundColor='#9D6CFF'\" onclick=\"window.commands?.execute('create-mitosheet-from-dataframe-output');\">See Full Dataframe in Mito</div> <script> if (window.commands.hasCommand('create-mitosheet-from-dataframe-output')) document.getElementById('543899bf-ff18-45fe-ba8e-5e62c4155398').style.display = 'flex' </script> <table border=\"1\" class=\"dataframe\">\n",
       "  <thead>\n",
       "    <tr style=\"text-align: right;\">\n",
       "      <th></th>\n",
       "      <th>0</th>\n",
       "      <th>1</th>\n",
       "      <th>2</th>\n",
       "      <th>3</th>\n",
       "      <th>4</th>\n",
       "      <th>5</th>\n",
       "      <th>6</th>\n",
       "      <th>7</th>\n",
       "      <th>8</th>\n",
       "      <th>9</th>\n",
       "      <th>10</th>\n",
       "      <th>11</th>\n",
       "      <th>12</th>\n",
       "      <th>13</th>\n",
       "      <th>14</th>\n",
       "    </tr>\n",
       "  </thead>\n",
       "  <tbody>\n",
       "    <tr>\n",
       "      <th>0</th>\n",
       "      <td>25</td>\n",
       "      <td>Private</td>\n",
       "      <td>226802</td>\n",
       "      <td>11th</td>\n",
       "      <td>7</td>\n",
       "      <td>Never-married</td>\n",
       "      <td>Machine-op-inspct</td>\n",
       "      <td>Own-child</td>\n",
       "      <td>Black</td>\n",
       "      <td>Male</td>\n",
       "      <td>0</td>\n",
       "      <td>0</td>\n",
       "      <td>40</td>\n",
       "      <td>United-States</td>\n",
       "      <td>&lt;=50K.</td>\n",
       "    </tr>\n",
       "    <tr>\n",
       "      <th>1</th>\n",
       "      <td>38</td>\n",
       "      <td>Private</td>\n",
       "      <td>89814</td>\n",
       "      <td>HS-grad</td>\n",
       "      <td>9</td>\n",
       "      <td>Married-civ-spouse</td>\n",
       "      <td>Farming-fishing</td>\n",
       "      <td>Husband</td>\n",
       "      <td>White</td>\n",
       "      <td>Male</td>\n",
       "      <td>0</td>\n",
       "      <td>0</td>\n",
       "      <td>50</td>\n",
       "      <td>United-States</td>\n",
       "      <td>&lt;=50K.</td>\n",
       "    </tr>\n",
       "  </tbody>\n",
       "</table></div>"
      ],
      "text/plain": [
       "   0         1       2         3   4                    5   \\\n",
       "0  25   Private  226802      11th   7        Never-married   \n",
       "1  38   Private   89814   HS-grad   9   Married-civ-spouse   \n",
       "\n",
       "                   6           7       8      9   10  11  12              13  \\\n",
       "0   Machine-op-inspct   Own-child   Black   Male   0   0  40   United-States   \n",
       "1     Farming-fishing     Husband   White   Male   0   0  50   United-States   \n",
       "\n",
       "        14  \n",
       "0   <=50K.  \n",
       "1   <=50K.  "
      ]
     },
     "execution_count": 7,
     "metadata": {},
     "output_type": "execute_result"
    }
   ],
   "source": [
    "df_teste.head(2)"
   ]
  },
  {
   "cell_type": "code",
   "execution_count": 8,
   "id": "038e6a8d",
   "metadata": {},
   "outputs": [],
   "source": [
    "#Criando nome dos atributos:\n",
    "df_teste.rename(columns= {0:'age',\n",
    "                           1: 'work_class',\n",
    "                           2:'fnlwgt',\n",
    "                           3:'education', \n",
    "                           4:'education_num', \n",
    "                           5:'marital_status', \n",
    "                           6:'occupation',\n",
    "                           7:'relationship',\n",
    "                           8:'race',\n",
    "                           9:'sex',\n",
    "                           10:'capital_gain',\n",
    "                           11:'capital_loss',\n",
    "                           12:'hours_per_week',\n",
    "                           13:'native_country',\n",
    "                           14:'annual_income'},\n",
    "                           inplace=True)"
   ]
  },
  {
   "cell_type": "code",
   "execution_count": null,
   "id": "3b6668af",
   "metadata": {},
   "outputs": [],
   "source": [
    "df_teste.sample(2)"
   ]
  },
  {
   "cell_type": "code",
   "execution_count": 9,
   "id": "53fd471d",
   "metadata": {},
   "outputs": [
    {
     "data": {
      "text/html": [
       "<div><div id=ea762f96-0b50-47c7-9900-df602f48f2d6 style=\"display:none; background-color:#9D6CFF; color:white; width:200px; height:30px; padding-left:5px; border-radius:4px; flex-direction:row; justify-content:space-around; align-items:center;\" onmouseover=\"this.style.backgroundColor='#BA9BF8'\" onmouseout=\"this.style.backgroundColor='#9D6CFF'\" onclick=\"window.commands?.execute('create-mitosheet-from-dataframe-output');\">See Full Dataframe in Mito</div> <script> if (window.commands.hasCommand('create-mitosheet-from-dataframe-output')) document.getElementById('ea762f96-0b50-47c7-9900-df602f48f2d6').style.display = 'flex' </script> <table border=\"1\" class=\"dataframe\">\n",
       "  <thead>\n",
       "    <tr style=\"text-align: right;\">\n",
       "      <th></th>\n",
       "      <th>age</th>\n",
       "      <th>work_class</th>\n",
       "      <th>fnlwgt</th>\n",
       "      <th>education</th>\n",
       "      <th>education_num</th>\n",
       "      <th>marital_status</th>\n",
       "      <th>occupation</th>\n",
       "      <th>relationship</th>\n",
       "      <th>race</th>\n",
       "      <th>sex</th>\n",
       "      <th>capital_gain</th>\n",
       "      <th>capital_loss</th>\n",
       "      <th>hours_per_week</th>\n",
       "      <th>native_country</th>\n",
       "      <th>annual_income</th>\n",
       "    </tr>\n",
       "  </thead>\n",
       "  <tbody>\n",
       "    <tr>\n",
       "      <th>32300</th>\n",
       "      <td>49</td>\n",
       "      <td>Private</td>\n",
       "      <td>242987</td>\n",
       "      <td>Bachelors</td>\n",
       "      <td>13</td>\n",
       "      <td>Married-civ-spouse</td>\n",
       "      <td>Prof-specialty</td>\n",
       "      <td>Husband</td>\n",
       "      <td>White</td>\n",
       "      <td>Male</td>\n",
       "      <td>0</td>\n",
       "      <td>0</td>\n",
       "      <td>40</td>\n",
       "      <td>Columbia</td>\n",
       "      <td>&lt;=50K</td>\n",
       "    </tr>\n",
       "    <tr>\n",
       "      <th>30034</th>\n",
       "      <td>40</td>\n",
       "      <td>Local-gov</td>\n",
       "      <td>303212</td>\n",
       "      <td>Bachelors</td>\n",
       "      <td>13</td>\n",
       "      <td>Married-civ-spouse</td>\n",
       "      <td>Prof-specialty</td>\n",
       "      <td>Husband</td>\n",
       "      <td>White</td>\n",
       "      <td>Male</td>\n",
       "      <td>0</td>\n",
       "      <td>0</td>\n",
       "      <td>40</td>\n",
       "      <td>United-States</td>\n",
       "      <td>&gt;50K</td>\n",
       "    </tr>\n",
       "  </tbody>\n",
       "</table></div>"
      ],
      "text/plain": [
       "       age  work_class  fnlwgt   education  education_num  \\\n",
       "32300   49     Private  242987   Bachelors             13   \n",
       "30034   40   Local-gov  303212   Bachelors             13   \n",
       "\n",
       "            marital_status       occupation relationship    race    sex  \\\n",
       "32300   Married-civ-spouse   Prof-specialty      Husband   White   Male   \n",
       "30034   Married-civ-spouse   Prof-specialty      Husband   White   Male   \n",
       "\n",
       "       capital_gain  capital_loss  hours_per_week  native_country  \\\n",
       "32300             0             0              40        Columbia   \n",
       "30034             0             0              40   United-States   \n",
       "\n",
       "      annual_income  \n",
       "32300         <=50K  \n",
       "30034          >50K  "
      ]
     },
     "execution_count": 9,
     "metadata": {},
     "output_type": "execute_result"
    }
   ],
   "source": [
    "#juntando os dois datasets\n",
    "df_m = pd.merge(df_treino, df_teste, how=\"outer\")\n",
    "df_m.sample(2)"
   ]
  },
  {
   "cell_type": "code",
   "execution_count": null,
   "id": "4f67defc",
   "metadata": {},
   "outputs": [],
   "source": [
    "df_m.shape"
   ]
  },
  {
   "cell_type": "code",
   "execution_count": null,
   "id": "07bd1c29",
   "metadata": {},
   "outputs": [],
   "source": [
    "# salvando o dataset por segurança\n",
    "df_m.to_csv('salary.csv', index=False)"
   ]
  },
  {
   "cell_type": "code",
   "execution_count": 10,
   "id": "9c23e7af",
   "metadata": {
    "scrolled": true
   },
   "outputs": [
    {
     "data": {
      "text/html": [
       "<div><div id=32a13831-8e81-47c6-b591-9dfdf0df9527 style=\"display:none; background-color:#9D6CFF; color:white; width:200px; height:30px; padding-left:5px; border-radius:4px; flex-direction:row; justify-content:space-around; align-items:center;\" onmouseover=\"this.style.backgroundColor='#BA9BF8'\" onmouseout=\"this.style.backgroundColor='#9D6CFF'\" onclick=\"window.commands?.execute('create-mitosheet-from-dataframe-output');\">See Full Dataframe in Mito</div> <script> if (window.commands.hasCommand('create-mitosheet-from-dataframe-output')) document.getElementById('32a13831-8e81-47c6-b591-9dfdf0df9527').style.display = 'flex' </script> <table border=\"1\" class=\"dataframe\">\n",
       "  <thead>\n",
       "    <tr style=\"text-align: right;\">\n",
       "      <th></th>\n",
       "      <th>age</th>\n",
       "      <th>work_class</th>\n",
       "      <th>fnlwgt</th>\n",
       "      <th>education</th>\n",
       "      <th>education_num</th>\n",
       "      <th>marital_status</th>\n",
       "      <th>occupation</th>\n",
       "      <th>relationship</th>\n",
       "      <th>race</th>\n",
       "      <th>sex</th>\n",
       "      <th>capital_gain</th>\n",
       "      <th>capital_loss</th>\n",
       "      <th>hours_per_week</th>\n",
       "      <th>native_country</th>\n",
       "      <th>annual_income</th>\n",
       "    </tr>\n",
       "  </thead>\n",
       "  <tbody>\n",
       "    <tr>\n",
       "      <th>0</th>\n",
       "      <td>39</td>\n",
       "      <td>State-gov</td>\n",
       "      <td>77516</td>\n",
       "      <td>Bachelors</td>\n",
       "      <td>13</td>\n",
       "      <td>Never-married</td>\n",
       "      <td>Adm-clerical</td>\n",
       "      <td>Not-in-family</td>\n",
       "      <td>White</td>\n",
       "      <td>Male</td>\n",
       "      <td>2174</td>\n",
       "      <td>0</td>\n",
       "      <td>40</td>\n",
       "      <td>United-States</td>\n",
       "      <td>&lt;=50K</td>\n",
       "    </tr>\n",
       "    <tr>\n",
       "      <th>1</th>\n",
       "      <td>50</td>\n",
       "      <td>Self-emp-not-inc</td>\n",
       "      <td>83311</td>\n",
       "      <td>Bachelors</td>\n",
       "      <td>13</td>\n",
       "      <td>Married-civ-spouse</td>\n",
       "      <td>Exec-managerial</td>\n",
       "      <td>Husband</td>\n",
       "      <td>White</td>\n",
       "      <td>Male</td>\n",
       "      <td>0</td>\n",
       "      <td>0</td>\n",
       "      <td>13</td>\n",
       "      <td>United-States</td>\n",
       "      <td>&lt;=50K</td>\n",
       "    </tr>\n",
       "    <tr>\n",
       "      <th>2</th>\n",
       "      <td>38</td>\n",
       "      <td>Private</td>\n",
       "      <td>215646</td>\n",
       "      <td>HS-grad</td>\n",
       "      <td>9</td>\n",
       "      <td>Divorced</td>\n",
       "      <td>Handlers-cleaners</td>\n",
       "      <td>Not-in-family</td>\n",
       "      <td>White</td>\n",
       "      <td>Male</td>\n",
       "      <td>0</td>\n",
       "      <td>0</td>\n",
       "      <td>40</td>\n",
       "      <td>United-States</td>\n",
       "      <td>&lt;=50K</td>\n",
       "    </tr>\n",
       "    <tr>\n",
       "      <th>3</th>\n",
       "      <td>53</td>\n",
       "      <td>Private</td>\n",
       "      <td>234721</td>\n",
       "      <td>11th</td>\n",
       "      <td>7</td>\n",
       "      <td>Married-civ-spouse</td>\n",
       "      <td>Handlers-cleaners</td>\n",
       "      <td>Husband</td>\n",
       "      <td>Black</td>\n",
       "      <td>Male</td>\n",
       "      <td>0</td>\n",
       "      <td>0</td>\n",
       "      <td>40</td>\n",
       "      <td>United-States</td>\n",
       "      <td>&lt;=50K</td>\n",
       "    </tr>\n",
       "    <tr>\n",
       "      <th>4</th>\n",
       "      <td>28</td>\n",
       "      <td>Private</td>\n",
       "      <td>338409</td>\n",
       "      <td>Bachelors</td>\n",
       "      <td>13</td>\n",
       "      <td>Married-civ-spouse</td>\n",
       "      <td>Prof-specialty</td>\n",
       "      <td>Wife</td>\n",
       "      <td>Black</td>\n",
       "      <td>Female</td>\n",
       "      <td>0</td>\n",
       "      <td>0</td>\n",
       "      <td>40</td>\n",
       "      <td>Cuba</td>\n",
       "      <td>&lt;=50K</td>\n",
       "    </tr>\n",
       "  </tbody>\n",
       "</table></div>"
      ],
      "text/plain": [
       "   age         work_class  fnlwgt   education  education_num  \\\n",
       "0   39          State-gov   77516   Bachelors             13   \n",
       "1   50   Self-emp-not-inc   83311   Bachelors             13   \n",
       "2   38            Private  215646     HS-grad              9   \n",
       "3   53            Private  234721        11th              7   \n",
       "4   28            Private  338409   Bachelors             13   \n",
       "\n",
       "        marital_status          occupation    relationship    race      sex  \\\n",
       "0        Never-married        Adm-clerical   Not-in-family   White     Male   \n",
       "1   Married-civ-spouse     Exec-managerial         Husband   White     Male   \n",
       "2             Divorced   Handlers-cleaners   Not-in-family   White     Male   \n",
       "3   Married-civ-spouse   Handlers-cleaners         Husband   Black     Male   \n",
       "4   Married-civ-spouse      Prof-specialty            Wife   Black   Female   \n",
       "\n",
       "   capital_gain  capital_loss  hours_per_week  native_country annual_income  \n",
       "0          2174             0              40   United-States         <=50K  \n",
       "1             0             0              13   United-States         <=50K  \n",
       "2             0             0              40   United-States         <=50K  \n",
       "3             0             0              40   United-States         <=50K  \n",
       "4             0             0              40            Cuba         <=50K  "
      ]
     },
     "execution_count": 10,
     "metadata": {},
     "output_type": "execute_result"
    }
   ],
   "source": [
    "#lendo o novo dataset\n",
    "df_s= pd.read_csv('salary.csv')\n",
    "df_s.head()"
   ]
  },
  {
   "cell_type": "code",
   "execution_count": 11,
   "id": "650e7c04",
   "metadata": {},
   "outputs": [
    {
     "data": {
      "text/plain": [
       "age                  0\n",
       "work_class        2799\n",
       "fnlwgt               0\n",
       "education            0\n",
       "education_num        0\n",
       "marital_status       0\n",
       "occupation        2809\n",
       "relationship         0\n",
       "race                 0\n",
       "sex                  0\n",
       "capital_gain         0\n",
       "capital_loss         0\n",
       "hours_per_week       0\n",
       "native_country     857\n",
       "annual_income        0\n",
       "dtype: int64"
      ]
     },
     "execution_count": 11,
     "metadata": {},
     "output_type": "execute_result"
    }
   ],
   "source": [
    "#Trocando ' ?' por valores NaN\n",
    "df_s.replace(' ?', np.nan, inplace=True)\n",
    "df_s.isnull().sum()"
   ]
  },
  {
   "cell_type": "code",
   "execution_count": null,
   "id": "f55d6c61",
   "metadata": {},
   "outputs": [],
   "source": [
    "#preenchendo os valores nulos com os mais próximos\n",
    "#df_s.fillna(method='bfill', inplace=True)\n",
    "#df_s.isnull().sum()"
   ]
  },
  {
   "cell_type": "markdown",
   "id": "41669801",
   "metadata": {},
   "source": [
    "#### Drawing some plots"
   ]
  },
  {
   "cell_type": "code",
   "execution_count": null,
   "id": "07a49d0c",
   "metadata": {},
   "outputs": [],
   "source": [
    "sns.heatmap(df_treino.corr(), cbar=True, lw=0.5) #lw = linewidth"
   ]
  },
  {
   "cell_type": "code",
   "execution_count": null,
   "id": "a9f4a844",
   "metadata": {},
   "outputs": [],
   "source": [
    "sns.set_style(\"whitegrid\")\n",
    "g = sns.catplot(y=\"occupation\", data=df_s, kind=\"count\", palette=\"Reds_r\", height=7, aspect=1.5)\n",
    "g.ax.set_title(\"occupation\",fontdict={'size':16})\n",
    "g.ax.xaxis.set_label_text(\"contagem\",fontdict= {'size':12})\n",
    "g.ax.yaxis.set_label_text(\"occupation\",fontdict= {'size':12})\n",
    "plt.show()\n"
   ]
  },
  {
   "cell_type": "code",
   "execution_count": null,
   "id": "dc846cf3",
   "metadata": {},
   "outputs": [],
   "source": [
    "sns.set_style(\"whitegrid\")\n",
    "g = sns.catplot(y=\"work_class\", data=df_s, kind=\"count\", palette=\"Reds_r\", height=7, aspect=1.5)\n",
    "g.ax.set_title(\"workclass\",fontdict={'size':16})\n",
    "g.ax.xaxis.set_label_text(\"contagem\",fontdict= {'size':12})\n",
    "g.ax.yaxis.set_label_text(\"workclass\",fontdict= {'size':12})\n",
    "plt.show()"
   ]
  },
  {
   "cell_type": "code",
   "execution_count": null,
   "id": "4d16c70e",
   "metadata": {},
   "outputs": [],
   "source": [
    "sns.set_style(\"whitegrid\")\n",
    "g = sns.catplot(y=\"marital_status\", data=df_s, kind=\"count\", palette=\"Reds_r\", height=7, aspect=1.5)\n",
    "g.ax.set_title(\"marital_status\",fontdict={'size':16})\n",
    "g.ax.xaxis.set_label_text(\"contagem\",fontdict= {'size':12})\n",
    "g.ax.yaxis.set_label_text(\"marital_status\",fontdict= {'size':12})\n",
    "plt.show()"
   ]
  },
  {
   "cell_type": "code",
   "execution_count": null,
   "id": "cd39c11f",
   "metadata": {},
   "outputs": [],
   "source": [
    "sns.set_style(\"whitegrid\")\n",
    "g = sns.catplot(y=\"relationship\", data=df_s, kind=\"count\", palette=\"Reds_r\", height=7, aspect=1.5)\n",
    "g.ax.set_title(\"relationship\",fontdict={'size':16})\n",
    "g.ax.xaxis.set_label_text(\"contagem\",fontdict= {'size':12})\n",
    "g.ax.yaxis.set_label_text(\"relationship\",fontdict= {'size':12})\n",
    "plt.show()"
   ]
  },
  {
   "cell_type": "code",
   "execution_count": null,
   "id": "2787cf51",
   "metadata": {},
   "outputs": [],
   "source": [
    "sns.set_style(\"whitegrid\")\n",
    "g = sns.catplot(y=\"race\", data=df_s, kind=\"count\", palette=\"Reds_r\", height=7, aspect=1.5)\n",
    "g.ax.set_title(\"race\",fontdict={'size':16})\n",
    "g.ax.xaxis.set_label_text(\"contagem\",fontdict= {'size':12})\n",
    "g.ax.yaxis.set_label_text(\"race\",fontdict= {'size':12})\n",
    "plt.show()"
   ]
  },
  {
   "cell_type": "code",
   "execution_count": null,
   "id": "0e23646e",
   "metadata": {},
   "outputs": [],
   "source": [
    "sns.set_style(\"whitegrid\")\n",
    "g = sns.catplot(y=\"sex\", data=df_s, kind=\"count\", palette=\"Reds_r\", height=7, aspect=1.5)\n",
    "g.ax.set_title(\"sex\",fontdict={'size':16})\n",
    "g.ax.xaxis.set_label_text(\"contagem\",fontdict= {'size':12})\n",
    "g.ax.yaxis.set_label_text(\"sex\",fontdict= {'size':12})\n",
    "plt.show()"
   ]
  },
  {
   "cell_type": "code",
   "execution_count": null,
   "id": "2f6b5ea2",
   "metadata": {},
   "outputs": [],
   "source": [
    "sns.set_style(\"whitegrid\")\n",
    "g = sns.catplot(y=\"native_country\", data=df_s, kind=\"count\", palette=\"Reds_r\", height=7, aspect=1.5)\n",
    "g.ax.set_title(\"native_country\",fontdict={'size':16})\n",
    "g.ax.xaxis.set_label_text(\"contagem\",fontdict= {'size':12})\n",
    "g.ax.yaxis.set_label_text(\"native_country\",fontdict= {'size':12})\n",
    "plt.show()"
   ]
  },
  {
   "cell_type": "code",
   "execution_count": null,
   "id": "99e9667b",
   "metadata": {},
   "outputs": [],
   "source": [
    "df_s.hist(figsize=(20,20))"
   ]
  },
  {
   "cell_type": "code",
   "execution_count": null,
   "id": "46d7c17e",
   "metadata": {},
   "outputs": [],
   "source": [
    "sns.set_style(\"white\")\n",
    "classe = sns.catplot(x=\"annual_income\", data=df_s, kind=\"count\", palette=\"BuPu\", height=6, aspect=1.5)\n",
    "\n",
    "#vamos balancear a classe (testaremos com oversampling e undersampling)"
   ]
  },
  {
   "cell_type": "code",
   "execution_count": null,
   "id": "84df97e6",
   "metadata": {},
   "outputs": [],
   "source": [
    "df_s.replace(' <=50K.', ' <=50K', inplace=True)\n",
    "df_s.replace(' >50K.', ' >50K', inplace=True)\n",
    "df_s.annual_income.value_counts()"
   ]
  },
  {
   "cell_type": "code",
   "execution_count": null,
   "id": "d3e05a15",
   "metadata": {},
   "outputs": [],
   "source": [
    "sns.set_style(\"white\")\n",
    "classe = sns.catplot(x=\"annual_income\", data=df_s, kind=\"count\", palette=\"BuPu\", height=6, aspect=1.5)\n",
    "\n",
    "#vamos balancear a classe (testaremos com oversampling e undersampling)"
   ]
  },
  {
   "cell_type": "code",
   "execution_count": null,
   "id": "1d547e99",
   "metadata": {},
   "outputs": [],
   "source": [
    "sns.pairplot(df_s, hue='annual_income', palette='rocket')"
   ]
  },
  {
   "cell_type": "code",
   "execution_count": null,
   "id": "b3376778",
   "metadata": {},
   "outputs": [],
   "source": [
    "axs = df_s.plot.area(figsize=(12, 4), subplots=True)"
   ]
  },
  {
   "cell_type": "code",
   "execution_count": null,
   "id": "a2cf3af4",
   "metadata": {},
   "outputs": [],
   "source": [
    "df_s.head()"
   ]
  },
  {
   "cell_type": "markdown",
   "id": "28c303bb",
   "metadata": {},
   "source": [
    "## Cuidando das colunas"
   ]
  },
  {
   "cell_type": "markdown",
   "id": "25e9a344",
   "metadata": {},
   "source": [
    "### Deletando colunas que não vamos utilizar"
   ]
  },
  {
   "cell_type": "markdown",
   "id": "d4471aa4",
   "metadata": {},
   "source": [
    "- fnlwgt são o total de pessoas que se enquadram naquela categoria. Não acho necessário para o modelo preditivo.\n",
    "- education_num e education são dados iguais.\n",
    "- capital_gain e capital_loss também são a somatória. Logo, vou deixar os valores em booleanos (0/1)\n",
    "- São vários países listados. Vamos deixá-los em continentes para melhor visualizar\n",
    "- cuidar da classe com label encoder"
   ]
  },
  {
   "cell_type": "code",
   "execution_count": null,
   "id": "fcb030a7",
   "metadata": {},
   "outputs": [],
   "source": [
    "df_s= df_s.drop(columns=['fnlwgt', 'education_num'])\n",
    "df_s.sample(2)"
   ]
  },
  {
   "cell_type": "code",
   "execution_count": null,
   "id": "effedbab",
   "metadata": {},
   "outputs": [],
   "source": [
    "df_s['capital_gain'] = df_s['capital_gain'].apply(lambda x:1 if x>0 else 0)\n",
    "df_s.capital_gain.value_counts()"
   ]
  },
  {
   "cell_type": "code",
   "execution_count": null,
   "id": "a53797fb",
   "metadata": {},
   "outputs": [],
   "source": [
    "df_s.native_country.unique()"
   ]
  },
  {
   "cell_type": "code",
   "execution_count": null,
   "id": "dea729f8",
   "metadata": {},
   "outputs": [],
   "source": [
    "#Country Groupings\n",
    "Asia = [\" Laos\", \" Thailand\", \" Taiwan\", \" Vietnam\", \" Japan\", \" Cambodia\", \" China\", \" India\", \" Philippines\", \" Hong\", \" Iran\"]\n",
    "Europe = [\" Hungary\", \" Yugoslavia\", \" France\", \" Scotland\", \" Ireland\", \" Greece\", \" Poland\", \" Portugal\", \" Italy\", \" England\",\n",
    "         \" Germany\", \" Holand-Netherlands\"]\n",
    "LatinAmerica = [\" Honduras\", \" Trinadad&Tobago\",  \" Nicaragua\", \" Peru\", \" Ecuador\", \" Guatemala\", \" Jamaica\", \" Columbia\", \" Haiti\",\n",
    "               \" Dominican-Republic\", \" Cuba\", \" El-Salvador\"]\n",
    "AmericanTerritories = [\" Puerto-Rico\", \" Outlying-US(Guam-USVI-etc)\", \" Canada\",\" United-States\"]"
   ]
  },
  {
   "cell_type": "code",
   "execution_count": null,
   "id": "3c7cbd18",
   "metadata": {},
   "outputs": [],
   "source": [
    "#ConvertCountry: Converts countries into more congregated groups\n",
    "#Input: the country\n",
    "#Output: the converted label\n",
    "def convertCountry(country):\n",
    "    #If the person is from an Asian country\n",
    "    if country in Asia:\n",
    "        return \" Asia\" #Return the collective Asian category\n",
    "    \n",
    "    #If the person is from a European country\n",
    "    if country in Europe:\n",
    "        return \" Europe\" #Return the collective European category\n",
    "    \n",
    "    #If the person is from a Latin American country\n",
    "    if country in LatinAmerica:\n",
    "        return \" LatinAmerica\" #Return the collective Latin America category\n",
    "    \n",
    "    #If the person is from a US Territory\n",
    "    if country in AmericanTerritories:\n",
    "        return \" NorthAmerica\" #Return United-States, as it is part of the US\n",
    "    \n",
    "    #If the country is just listed as south\n",
    "    if country == \" South\":\n",
    "        return \"Unknown\" #Return unknown because what do you mean \"south\"?\n",
    "    \n",
    "    return country #Return the country if there is nothing to change\n",
    "\n",
    "df_s[\"native_country\"] = df_s[\"native_country\"].apply(convertCountry) #Convert the countries\n"
   ]
  },
  {
   "cell_type": "code",
   "execution_count": null,
   "id": "2a951d5a",
   "metadata": {},
   "outputs": [],
   "source": [
    "sns.set_style(\"whitegrid\")\n",
    "g = sns.catplot(y=\"native_country\", data=df_s, kind=\"count\", palette=\"Reds_r\", height=7, aspect=1.5)\n",
    "g.ax.set_title(\"native_country\",fontdict={'size':16})\n",
    "g.ax.xaxis.set_label_text(\"contagem\",fontdict= {'size':12})\n",
    "g.ax.yaxis.set_label_text(\"native_country\",fontdict= {'size':12})\n",
    "plt.show()"
   ]
  },
  {
   "cell_type": "code",
   "execution_count": null,
   "id": "39ad9705",
   "metadata": {},
   "outputs": [],
   "source": [
    "#Vamos utilizar o Label Encoder para o tratamento da classe... depois que separar o target, farei isso.\n",
    "#Para a Classe, vou usar o lambda para poder treinar e aprender. Poderia usar o map....\n",
    "#df_s['annual_income'] = df_s['annual_income'].apply(lambda x: 0 if x == \" <=50K\" or x == 0 else 1)\n",
    "#df_s['annual_income'].value_counts()"
   ]
  },
  {
   "cell_type": "code",
   "execution_count": null,
   "id": "6303a705",
   "metadata": {},
   "outputs": [],
   "source": [
    "df_s.head()"
   ]
  },
  {
   "cell_type": "code",
   "execution_count": null,
   "id": "ad8fe2be",
   "metadata": {},
   "outputs": [],
   "source": [
    "df_s.to_csv('salary_trat.csv', index=False)"
   ]
  },
  {
   "cell_type": "markdown",
   "id": "8a786a05",
   "metadata": {},
   "source": [
    "## Pré-processamento dos dados"
   ]
  },
  {
   "cell_type": "code",
   "execution_count": 7,
   "id": "69b3399d",
   "metadata": {},
   "outputs": [],
   "source": [
    "#importando as bibliotecas necessárias\n",
    "import pandas as pd\n",
    "import seaborn as sns\n",
    "from sklearn.pipeline import Pipeline\n",
    "from sklearn.preprocessing import LabelEncoder\n",
    "from sklearn.preprocessing import StandardScaler\n",
    "from sklearn.model_selection import train_test_split\n",
    "\n",
    "from imblearn.under_sampling import NearMiss\n",
    "from sklearn.neighbors import KNeighborsClassifier\n",
    "from sklearn.metrics import confusion_matrix, classification_report\n",
    "\n",
    "from sklearn.metrics import accuracy_score, log_loss\n",
    "from sklearn.svm import SVC, LinearSVC, NuSVC\n",
    "from sklearn.tree import DecisionTreeClassifier\n",
    "from sklearn.ensemble import (\n",
    "    RandomForestClassifier,\n",
    "    AdaBoostClassifier,\n",
    "    GradientBoostingClassifier,\n",
    ")\n",
    "from sklearn.discriminant_analysis import LinearDiscriminantAnalysis\n",
    "from sklearn.discriminant_analysis import QuadraticDiscriminantAnalysis\n",
    "from sklearn.linear_model import LogisticRegression"
   ]
  },
  {
   "cell_type": "code",
   "execution_count": 8,
   "id": "d3fd835a",
   "metadata": {},
   "outputs": [
    {
     "data": {
      "text/html": [
       "<div><div id=9954ff27-8900-4caf-88bb-fea00804274d style=\"display:none; background-color:#9D6CFF; color:white; width:200px; height:30px; padding-left:5px; border-radius:4px; flex-direction:row; justify-content:space-around; align-items:center;\" onmouseover=\"this.style.backgroundColor='#BA9BF8'\" onmouseout=\"this.style.backgroundColor='#9D6CFF'\" onclick=\"window.commands?.execute('create-mitosheet-from-dataframe-output');\">See Full Dataframe in Mito</div> <script> if (window.commands.hasCommand('create-mitosheet-from-dataframe-output')) document.getElementById('9954ff27-8900-4caf-88bb-fea00804274d').style.display = 'flex' </script> <table border=\"1\" class=\"dataframe\">\n",
       "  <thead>\n",
       "    <tr style=\"text-align: right;\">\n",
       "      <th></th>\n",
       "      <th>age</th>\n",
       "      <th>work_class</th>\n",
       "      <th>education</th>\n",
       "      <th>marital_status</th>\n",
       "      <th>occupation</th>\n",
       "      <th>relationship</th>\n",
       "      <th>race</th>\n",
       "      <th>sex</th>\n",
       "      <th>capital_gain</th>\n",
       "      <th>capital_loss</th>\n",
       "      <th>hours_per_week</th>\n",
       "      <th>native_country</th>\n",
       "      <th>annual_income</th>\n",
       "    </tr>\n",
       "  </thead>\n",
       "  <tbody>\n",
       "    <tr>\n",
       "      <th>0</th>\n",
       "      <td>39</td>\n",
       "      <td>State-gov</td>\n",
       "      <td>Bachelors</td>\n",
       "      <td>Never-married</td>\n",
       "      <td>Adm-clerical</td>\n",
       "      <td>Not-in-family</td>\n",
       "      <td>White</td>\n",
       "      <td>Male</td>\n",
       "      <td>1</td>\n",
       "      <td>0</td>\n",
       "      <td>40</td>\n",
       "      <td>NorthAmerica</td>\n",
       "      <td>&lt;=50K</td>\n",
       "    </tr>\n",
       "    <tr>\n",
       "      <th>1</th>\n",
       "      <td>50</td>\n",
       "      <td>Self-emp-not-inc</td>\n",
       "      <td>Bachelors</td>\n",
       "      <td>Married-civ-spouse</td>\n",
       "      <td>Exec-managerial</td>\n",
       "      <td>Husband</td>\n",
       "      <td>White</td>\n",
       "      <td>Male</td>\n",
       "      <td>0</td>\n",
       "      <td>0</td>\n",
       "      <td>13</td>\n",
       "      <td>NorthAmerica</td>\n",
       "      <td>&lt;=50K</td>\n",
       "    </tr>\n",
       "    <tr>\n",
       "      <th>2</th>\n",
       "      <td>38</td>\n",
       "      <td>Private</td>\n",
       "      <td>HS-grad</td>\n",
       "      <td>Divorced</td>\n",
       "      <td>Handlers-cleaners</td>\n",
       "      <td>Not-in-family</td>\n",
       "      <td>White</td>\n",
       "      <td>Male</td>\n",
       "      <td>0</td>\n",
       "      <td>0</td>\n",
       "      <td>40</td>\n",
       "      <td>NorthAmerica</td>\n",
       "      <td>&lt;=50K</td>\n",
       "    </tr>\n",
       "    <tr>\n",
       "      <th>3</th>\n",
       "      <td>53</td>\n",
       "      <td>Private</td>\n",
       "      <td>11th</td>\n",
       "      <td>Married-civ-spouse</td>\n",
       "      <td>Handlers-cleaners</td>\n",
       "      <td>Husband</td>\n",
       "      <td>Black</td>\n",
       "      <td>Male</td>\n",
       "      <td>0</td>\n",
       "      <td>0</td>\n",
       "      <td>40</td>\n",
       "      <td>NorthAmerica</td>\n",
       "      <td>&lt;=50K</td>\n",
       "    </tr>\n",
       "    <tr>\n",
       "      <th>4</th>\n",
       "      <td>28</td>\n",
       "      <td>Private</td>\n",
       "      <td>Bachelors</td>\n",
       "      <td>Married-civ-spouse</td>\n",
       "      <td>Prof-specialty</td>\n",
       "      <td>Wife</td>\n",
       "      <td>Black</td>\n",
       "      <td>Female</td>\n",
       "      <td>0</td>\n",
       "      <td>0</td>\n",
       "      <td>40</td>\n",
       "      <td>LatinAmerica</td>\n",
       "      <td>&lt;=50K</td>\n",
       "    </tr>\n",
       "  </tbody>\n",
       "</table></div>"
      ],
      "text/plain": [
       "   age         work_class   education       marital_status  \\\n",
       "0   39          State-gov   Bachelors        Never-married   \n",
       "1   50   Self-emp-not-inc   Bachelors   Married-civ-spouse   \n",
       "2   38            Private     HS-grad             Divorced   \n",
       "3   53            Private        11th   Married-civ-spouse   \n",
       "4   28            Private   Bachelors   Married-civ-spouse   \n",
       "\n",
       "           occupation    relationship    race      sex  capital_gain  \\\n",
       "0        Adm-clerical   Not-in-family   White     Male             1   \n",
       "1     Exec-managerial         Husband   White     Male             0   \n",
       "2   Handlers-cleaners   Not-in-family   White     Male             0   \n",
       "3   Handlers-cleaners         Husband   Black     Male             0   \n",
       "4      Prof-specialty            Wife   Black   Female             0   \n",
       "\n",
       "   capital_loss  hours_per_week native_country annual_income  \n",
       "0             0              40   NorthAmerica         <=50K  \n",
       "1             0              13   NorthAmerica         <=50K  \n",
       "2             0              40   NorthAmerica         <=50K  \n",
       "3             0              40   NorthAmerica         <=50K  \n",
       "4             0              40   LatinAmerica         <=50K  "
      ]
     },
     "execution_count": 8,
     "metadata": {},
     "output_type": "execute_result"
    }
   ],
   "source": [
    "#Carregando os dados tratados\n",
    "df_trat= pd.read_csv('salary_trat.csv')\n",
    "df_trat.head()"
   ]
  },
  {
   "cell_type": "code",
   "execution_count": 1,
   "id": "dea5c853",
   "metadata": {},
   "outputs": [
    {
     "ename": "NameError",
     "evalue": "name 'LabelEncoder' is not defined",
     "output_type": "error",
     "traceback": [
      "\u001b[1;31m---------------------------------------------------------------------------\u001b[0m",
      "\u001b[1;31mNameError\u001b[0m                                 Traceback (most recent call last)",
      "Input \u001b[1;32mIn [1]\u001b[0m, in \u001b[0;36m<module>\u001b[1;34m\u001b[0m\n\u001b[0;32m      1\u001b[0m \u001b[38;5;66;03m#instanciando\u001b[39;00m\n\u001b[1;32m----> 2\u001b[0m le \u001b[38;5;241m=\u001b[39m \u001b[43mLabelEncoder\u001b[49m()\n\u001b[0;32m      3\u001b[0m \u001b[38;5;66;03m#Utilizando o label encoder\u001b[39;00m\n\u001b[0;32m      4\u001b[0m df_trat[\u001b[38;5;124m'\u001b[39m\u001b[38;5;124mwork_class\u001b[39m\u001b[38;5;124m'\u001b[39m] \u001b[38;5;241m=\u001b[39m le\u001b[38;5;241m.\u001b[39mfit_transform(df_trat[\u001b[38;5;124m'\u001b[39m\u001b[38;5;124mwork_class\u001b[39m\u001b[38;5;124m'\u001b[39m])\n",
      "\u001b[1;31mNameError\u001b[0m: name 'LabelEncoder' is not defined"
     ]
    }
   ],
   "source": [
    "#instanciando\n",
    "le = LabelEncoder()\n",
    "#Utilizando o label encoder\n",
    "df_trat['work_class'] = le.fit_transform(df_trat['work_class'])\n",
    "df_trat['education'] = le.fit_transform(df_trat['education'])\n",
    "df_trat['marital_status'] = le.fit_transform(df_trat['marital_status'])\n",
    "df_trat['occupation'] = le.fit_transform(df_trat['occupation'])\n",
    "df_trat['relationship'] = le.fit_transform(df_trat['relationship'])\n",
    "df_trat['race'] = le.fit_transform(df_trat['race'])\n",
    "df_trat['sex'] = le.fit_transform(df_trat['sex'])\n",
    "df_trat['native_country'] = le.fit_transform(df_trat['native_country'])\n",
    "df_trat['annual_income'] = le.fit_transform(df_trat['annual_income'])\n",
    "\n",
    "df_trat.head()"
   ]
  },
  {
   "cell_type": "code",
   "execution_count": 10,
   "id": "afab66e7",
   "metadata": {},
   "outputs": [
    {
     "data": {
      "text/plain": [
       "((48842, 12), (48842,))"
      ]
     },
     "execution_count": 10,
     "metadata": {},
     "output_type": "execute_result"
    }
   ],
   "source": [
    "#Separando os dados em X e y\n",
    "X = df_trat.drop('annual_income', axis = 1)\n",
    "y = df_trat['annual_income']\n",
    "\n",
    "X.shape, y.shape"
   ]
  },
  {
   "cell_type": "code",
   "execution_count": 11,
   "id": "c63b5a19",
   "metadata": {},
   "outputs": [
    {
     "data": {
      "text/plain": [
       "<AxesSubplot:xlabel='annual_income', ylabel='count'>"
      ]
     },
     "execution_count": 11,
     "metadata": {},
     "output_type": "execute_result"
    },
    {
     "data": {
      "image/png": "[encoded data removed]",
      "text/plain": [
       "<Figure size 432x288 with 1 Axes>"
      ]
     },
     "metadata": {
      "needs_background": "light"
     },
     "output_type": "display_data"
    }
   ],
   "source": [
    "#Verificando o tamanho do y. \n",
    "sns.countplot(x=y)\n",
    "#Vamos utilizar o undersampling para balancear o target do dataset"
   ]
  },
  {
   "cell_type": "code",
   "execution_count": 12,
   "id": "3ccae32b",
   "metadata": {},
   "outputs": [
    {
     "data": {
      "text/plain": [
       "<AxesSubplot:xlabel='annual_income', ylabel='count'>"
      ]
     },
     "execution_count": 12,
     "metadata": {},
     "output_type": "execute_result"
    },
    {
     "data": {
      "image/png": "[encoded data removed]",
      "text/plain": [
       "<Figure size 432x288 with 1 Axes>"
      ]
     },
     "metadata": {
      "needs_background": "light"
     },
     "output_type": "display_data"
    }
   ],
   "source": [
    "#Instanciando o NearMiss\n",
    "nr = NearMiss()\n",
    "\n",
    "#Aplicando\n",
    "X_under,y_under= nr.fit_resample(X,y)\n",
    "\n",
    "#checando a amostra\n",
    "sns.countplot(x=y_under)"
   ]
  },
  {
   "cell_type": "code",
   "execution_count": 13,
   "id": "372e45b2",
   "metadata": {},
   "outputs": [
    {
     "data": {
      "text/plain": [
       "age               0.250237\n",
       "hours_per_week    0.127181\n",
       "education         0.116283\n",
       "relationship      0.112212\n",
       "occupation        0.102631\n",
       "marital_status    0.087348\n",
       "capital_gain      0.054535\n",
       "work_class        0.053882\n",
       "capital_loss      0.046950\n",
       "race              0.019632\n",
       "native_country    0.015218\n",
       "sex               0.013891\n",
       "dtype: float64"
      ]
     },
     "execution_count": 13,
     "metadata": {},
     "output_type": "execute_result"
    }
   ],
   "source": [
    "# Analisando a importância de cada feature\n",
    "#instanciando\n",
    "RF_Class = RandomForestClassifier(random_state=123)\n",
    "RF_Class.fit(X,y)\n",
    "\n",
    "#buscando as melhores features\n",
    "feature_imp = pd.Series(RF_Class.feature_importances_,index=X.columns).sort_values(ascending=False)\n",
    "feature_imp"
   ]
  },
  {
   "cell_type": "code",
   "execution_count": 14,
   "id": "4afb53f1",
   "metadata": {},
   "outputs": [
    {
     "name": "stdout",
     "output_type": "stream",
     "text": [
      "age: 25%\n",
      "hours_per_week: 13%\n",
      "education: 12%\n",
      "relationship: 11%\n",
      "occupation: 10%\n",
      "marital_status: 9%\n",
      "capital_gain: 5%\n",
      "work_class: 5%\n",
      "capital_loss: 5%\n"
     ]
    }
   ],
   "source": [
    "# Selecionando as features de maior importância.\n",
    "features_selected = []\n",
    "for feature,importance in feature_imp.iteritems():\n",
    "    if importance > 0.03:\n",
    "        print(f'{feature}: {round(importance * 100)}%')\n",
    "        features_selected.append(feature)"
   ]
  },
  {
   "cell_type": "markdown",
   "id": "e3655aaf",
   "metadata": {},
   "source": [
    "### testando com todos as colunas"
   ]
  },
  {
   "cell_type": "code",
   "execution_count": 15,
   "id": "eec0fdd6",
   "metadata": {},
   "outputs": [
    {
     "data": {
      "text/plain": [
       "array([[ 0.02599598,  2.5315735 , -0.33254239, ..., -0.2171271 ,\n",
       "        -0.03408696,  0.25506947],\n",
       "       [ 0.82830842,  1.65644353, -0.33254239, ..., -0.2171271 ,\n",
       "        -2.21303208,  0.25506947],\n",
       "       [-0.04694151, -0.0938164 ,  0.18365954, ..., -0.2171271 ,\n",
       "        -0.03408696,  0.25506947],\n",
       "       ...,\n",
       "       [-0.04694151, -0.0938164 , -0.33254239, ..., -0.2171271 ,\n",
       "         0.77292975,  0.25506947],\n",
       "       [ 0.39068346, -0.0938164 , -0.33254239, ..., -0.2171271 ,\n",
       "        -0.03408696,  0.25506947],\n",
       "       [-0.26575399,  0.78131357, -0.33254239, ..., -0.2171271 ,\n",
       "         1.57994645,  0.25506947]])"
      ]
     },
     "execution_count": 15,
     "metadata": {},
     "output_type": "execute_result"
    }
   ],
   "source": [
    "#Normalizando/padronizando os dados\n",
    "#https://scikit-learn.org/stable/modules/preprocessing.html#preprocessing\n",
    "\n",
    "s = StandardScaler()\n",
    "s.fit(X)\n",
    "X= s.transform(X)\n",
    "X\n"
   ]
  },
  {
   "cell_type": "code",
   "execution_count": 16,
   "id": "1db20493",
   "metadata": {},
   "outputs": [],
   "source": [
    "#Separando os dados em treino e teste\n",
    "X_train, X_test, y_train, y_test = train_test_split(X ,y)"
   ]
  },
  {
   "cell_type": "code",
   "execution_count": 17,
   "id": "03b7dc76",
   "metadata": {},
   "outputs": [],
   "source": [
    "#Fazendo o primeiro modelo com o KNN\n",
    "#Instanciando\n",
    "knn = KNeighborsClassifier(n_neighbors=3)\n",
    "\n",
    "#treinando\n",
    "knn.fit(X_train,y_train)\n",
    "\n",
    "#fazendo a predição do modelo\n",
    "y_pred = knn.predict(X_test)"
   ]
  },
  {
   "cell_type": "code",
   "execution_count": 18,
   "id": "e7f897d2",
   "metadata": {},
   "outputs": [
    {
     "name": "stdout",
     "output_type": "stream",
     "text": [
      "\n",
      "---------------------------\n",
      "\n",
      "Valores Preditos com dados de Teste :\n",
      " [0 0 1 ... 0 0 0]\n",
      "\n",
      "---------------------------\n",
      "\n",
      "Valores Reais com dados de teste :\n",
      " 37064    0\n",
      "27468    0\n",
      "3399     1\n",
      "15931    1\n",
      "47659    0\n",
      "        ..\n",
      "27661    0\n",
      "46690    0\n",
      "26981    1\n",
      "7513     0\n",
      "29924    0\n",
      "Name: annual_income, Length: 12211, dtype: int32\n",
      "Acurácia da Máquina =  0.8143477192695111\n",
      "\n",
      "Real vs Predito \n",
      "------------------------------\n",
      "\n"
     ]
    },
    {
     "data": {
      "text/html": [
       "<div><div id=94b4b762-10fe-42b8-ba31-84901289b915 style=\"display:none; background-color:#9D6CFF; color:white; width:200px; height:30px; padding-left:5px; border-radius:4px; flex-direction:row; justify-content:space-around; align-items:center;\" onmouseover=\"this.style.backgroundColor='#BA9BF8'\" onmouseout=\"this.style.backgroundColor='#9D6CFF'\" onclick=\"window.commands?.execute('create-mitosheet-from-dataframe-output');\">See Full Dataframe in Mito</div> <script> if (window.commands.hasCommand('create-mitosheet-from-dataframe-output')) document.getElementById('94b4b762-10fe-42b8-ba31-84901289b915').style.display = 'flex' </script> <table border=\"1\" class=\"dataframe\">\n",
       "  <thead>\n",
       "    <tr style=\"text-align: right;\">\n",
       "      <th></th>\n",
       "      <th>Real</th>\n",
       "      <th>Predito</th>\n",
       "    </tr>\n",
       "  </thead>\n",
       "  <tbody>\n",
       "    <tr>\n",
       "      <th>37064</th>\n",
       "      <td>0</td>\n",
       "      <td>0</td>\n",
       "    </tr>\n",
       "    <tr>\n",
       "      <th>27468</th>\n",
       "      <td>0</td>\n",
       "      <td>0</td>\n",
       "    </tr>\n",
       "    <tr>\n",
       "      <th>3399</th>\n",
       "      <td>1</td>\n",
       "      <td>1</td>\n",
       "    </tr>\n",
       "    <tr>\n",
       "      <th>15931</th>\n",
       "      <td>1</td>\n",
       "      <td>0</td>\n",
       "    </tr>\n",
       "    <tr>\n",
       "      <th>47659</th>\n",
       "      <td>0</td>\n",
       "      <td>1</td>\n",
       "    </tr>\n",
       "    <tr>\n",
       "      <th>...</th>\n",
       "      <td>...</td>\n",
       "      <td>...</td>\n",
       "    </tr>\n",
       "    <tr>\n",
       "      <th>27661</th>\n",
       "      <td>0</td>\n",
       "      <td>0</td>\n",
       "    </tr>\n",
       "    <tr>\n",
       "      <th>46690</th>\n",
       "      <td>0</td>\n",
       "      <td>1</td>\n",
       "    </tr>\n",
       "    <tr>\n",
       "      <th>26981</th>\n",
       "      <td>1</td>\n",
       "      <td>0</td>\n",
       "    </tr>\n",
       "    <tr>\n",
       "      <th>7513</th>\n",
       "      <td>0</td>\n",
       "      <td>0</td>\n",
       "    </tr>\n",
       "    <tr>\n",
       "      <th>29924</th>\n",
       "      <td>0</td>\n",
       "      <td>0</td>\n",
       "    </tr>\n",
       "  </tbody>\n",
       "</table></div>"
      ],
      "text/plain": [
       "       Real  Predito\n",
       "37064     0        0\n",
       "27468     0        0\n",
       "3399      1        1\n",
       "15931     1        0\n",
       "47659     0        1\n",
       "...     ...      ...\n",
       "27661     0        0\n",
       "46690     0        1\n",
       "26981     1        0\n",
       "7513      0        0\n",
       "29924     0        0\n",
       "\n",
       "[12211 rows x 2 columns]"
      ]
     },
     "execution_count": 18,
     "metadata": {},
     "output_type": "execute_result"
    }
   ],
   "source": [
    "print(\"\\n---------------------------\\n\")\n",
    "print(\"Valores Preditos com dados de Teste :\\n\",y_pred)\n",
    "print(\"\\n---------------------------\\n\")\n",
    "print(\"Valores Reais com dados de teste :\\n\",y_test)\n",
    "\n",
    "#Avaliando o modelo preditivo\n",
    "\n",
    "# Calculando a Acurácia\n",
    "from sklearn import metrics\n",
    "print(\"Acurácia da Máquina = \", metrics.accuracy_score(y_test, y_pred))\n",
    "\n",
    "#Comparando Real e Predito com dados de Teste\n",
    "print(\"\\nReal vs Predito \\n------------------------------\\n\")\n",
    "error_df = pd.DataFrame({\"Real\" : y_test,\n",
    "                         \"Predito\" : y_pred})\n",
    "\n",
    "error_df"
   ]
  },
  {
   "cell_type": "code",
   "execution_count": 19,
   "id": "363994ae",
   "metadata": {},
   "outputs": [
    {
     "name": "stdout",
     "output_type": "stream",
     "text": [
      "[[8203 1077]\n",
      " [1190 1741]]\n",
      "              precision    recall  f1-score   support\n",
      "\n",
      "           0       0.87      0.88      0.88      9280\n",
      "           1       0.62      0.59      0.61      2931\n",
      "\n",
      "    accuracy                           0.81     12211\n",
      "   macro avg       0.75      0.74      0.74     12211\n",
      "weighted avg       0.81      0.81      0.81     12211\n",
      "\n"
     ]
    }
   ],
   "source": [
    "#Usando a confusion matrix para avaliar a acurácia e demais indicadores\n",
    "\n",
    "cm = confusion_matrix(y_test,y_pred)\n",
    "cr = classification_report(y_test, y_pred)\n",
    "print(cm)\n",
    "print(cr)"
   ]
  },
  {
   "cell_type": "code",
   "execution_count": 20,
   "id": "d19dec4c",
   "metadata": {},
   "outputs": [
    {
     "name": "stdout",
     "output_type": "stream",
     "text": [
      "KNeighborsClassifier(n_neighbors=3)\n",
      "model score: 0.814\n",
      "\n",
      "---------------------------\n",
      "\n",
      "LogisticRegression()\n",
      "model score: 0.790\n",
      "\n",
      "---------------------------\n",
      "\n",
      "DecisionTreeClassifier()\n",
      "model score: 0.799\n",
      "\n",
      "---------------------------\n",
      "\n",
      "RandomForestClassifier()\n",
      "model score: 0.834\n",
      "\n",
      "---------------------------\n",
      "\n",
      "AdaBoostClassifier()\n",
      "model score: 0.848\n",
      "\n",
      "---------------------------\n",
      "\n",
      "GradientBoostingClassifier()\n",
      "model score: 0.851\n",
      "\n",
      "---------------------------\n",
      "\n"
     ]
    }
   ],
   "source": [
    "classifiers = [\n",
    "    KNeighborsClassifier(3),\n",
    "    #SVC(kernel=\"rbf\", C=0.025, probability=True),\n",
    "    #SVC(),\n",
    "    LogisticRegression(),\n",
    "    DecisionTreeClassifier(),\n",
    "    RandomForestClassifier(),\n",
    "    AdaBoostClassifier(),\n",
    "    GradientBoostingClassifier(),\n",
    "]\n",
    "\n",
    "for classifier in classifiers:\n",
    "    pipe = Pipeline(steps=[(\"classifier\", classifier)])\n",
    "    pipe.fit(X_train, y_train)\n",
    "\n",
    "    print(classifier)\n",
    "    print(\"model score: %.3f\" % pipe.score(X_test, y_test))\n",
    "    print(\"\\n---------------------------\\n\")\n"
   ]
  },
  {
   "cell_type": "code",
   "execution_count": 21,
   "id": "38bda91f",
   "metadata": {},
   "outputs": [
    {
     "name": "stdout",
     "output_type": "stream",
     "text": [
      "Accuracy: 71.35%\n"
     ]
    }
   ],
   "source": [
    "#Testando com o PAC\n",
    "from sklearn.linear_model import PassiveAggressiveClassifier\n",
    "\n",
    "#Initialize a PassiveAggressiveClassifier\n",
    "pac=PassiveAggressiveClassifier(C=0.5, max_iter=100)\n",
    "pac.fit(X_train,y_train)\n",
    "\n",
    "#Predict on the test set and calculate accuracy\n",
    "y_pred2=pac.predict(X_test)\n",
    "score=accuracy_score(y_test,y_pred2)\n",
    "print(f'Accuracy: {round(score*100,2)}%')"
   ]
  },
  {
   "cell_type": "code",
   "execution_count": 38,
   "id": "9f3310e5",
   "metadata": {},
   "outputs": [
    {
     "data": {
      "text/plain": [
       "0.8502989108181148"
      ]
     },
     "execution_count": 38,
     "metadata": {},
     "output_type": "execute_result"
    }
   ],
   "source": [
    "#Vamos tunar o modelo GradientBoostingClassifier\n",
    "clf = GradientBoostingClassifier(n_estimators=100, learning_rate=1.0,\n",
    "    max_depth=1, random_state=0).fit(X_train, y_train)\n",
    "\n",
    "\n",
    "clf.score(X_test, y_test)"
   ]
  },
  {
   "cell_type": "code",
   "execution_count": null,
   "id": "06a0e330",
   "metadata": {},
   "outputs": [],
   "source": []
  },
  {
   "cell_type": "code",
   "execution_count": 23,
   "id": "7c392f01",
   "metadata": {},
   "outputs": [
    {
     "data": {
      "text/plain": [
       "0.8553763000573253"
      ]
     },
     "execution_count": 23,
     "metadata": {},
     "output_type": "execute_result"
    }
   ],
   "source": [
    "#Vamos tunar o modelo GradientBoostingClassifier\n",
    "clf2 = GradientBoostingClassifier(n_estimators=100, learning_rate=0.8,\n",
    "    max_depth=3, random_state=10).fit(X_train, y_train)\n",
    "clf2.score(X_test, y_test)"
   ]
  },
  {
   "cell_type": "code",
   "execution_count": 24,
   "id": "0ef0d7da",
   "metadata": {},
   "outputs": [],
   "source": [
    "y_pred_gbc = clf2.predict(X_test)"
   ]
  },
  {
   "cell_type": "code",
   "execution_count": 25,
   "id": "b02823a1",
   "metadata": {},
   "outputs": [
    {
     "name": "stdout",
     "output_type": "stream",
     "text": [
      "\n",
      "---------------------------\n",
      "\n",
      "Valores Preditos com dados de Teste :\n",
      " [0 0 1 ... 0 0 0]\n",
      "\n",
      "---------------------------\n",
      "\n",
      "Valores Reais com dados de teste :\n",
      " 37064    0\n",
      "27468    0\n",
      "3399     1\n",
      "15931    1\n",
      "47659    0\n",
      "        ..\n",
      "27661    0\n",
      "46690    0\n",
      "26981    1\n",
      "7513     0\n",
      "29924    0\n",
      "Name: annual_income, Length: 12211, dtype: int32\n",
      "Acurácia da Máquina =  0.8553763000573253\n",
      "\n",
      "Real vs Predito \n",
      "------------------------------\n",
      "\n"
     ]
    },
    {
     "data": {
      "text/html": [
       "<div><div id=6862fb3b-85d4-4259-9b59-1ee2efc24941 style=\"display:none; background-color:#9D6CFF; color:white; width:200px; height:30px; padding-left:5px; border-radius:4px; flex-direction:row; justify-content:space-around; align-items:center;\" onmouseover=\"this.style.backgroundColor='#BA9BF8'\" onmouseout=\"this.style.backgroundColor='#9D6CFF'\" onclick=\"window.commands?.execute('create-mitosheet-from-dataframe-output');\">See Full Dataframe in Mito</div> <script> if (window.commands.hasCommand('create-mitosheet-from-dataframe-output')) document.getElementById('6862fb3b-85d4-4259-9b59-1ee2efc24941').style.display = 'flex' </script> <table border=\"1\" class=\"dataframe\">\n",
       "  <thead>\n",
       "    <tr style=\"text-align: right;\">\n",
       "      <th></th>\n",
       "      <th>Real</th>\n",
       "      <th>Predito</th>\n",
       "    </tr>\n",
       "  </thead>\n",
       "  <tbody>\n",
       "    <tr>\n",
       "      <th>37064</th>\n",
       "      <td>0</td>\n",
       "      <td>0</td>\n",
       "    </tr>\n",
       "    <tr>\n",
       "      <th>27468</th>\n",
       "      <td>0</td>\n",
       "      <td>0</td>\n",
       "    </tr>\n",
       "    <tr>\n",
       "      <th>3399</th>\n",
       "      <td>1</td>\n",
       "      <td>1</td>\n",
       "    </tr>\n",
       "    <tr>\n",
       "      <th>15931</th>\n",
       "      <td>1</td>\n",
       "      <td>1</td>\n",
       "    </tr>\n",
       "    <tr>\n",
       "      <th>47659</th>\n",
       "      <td>0</td>\n",
       "      <td>1</td>\n",
       "    </tr>\n",
       "    <tr>\n",
       "      <th>...</th>\n",
       "      <td>...</td>\n",
       "      <td>...</td>\n",
       "    </tr>\n",
       "    <tr>\n",
       "      <th>27661</th>\n",
       "      <td>0</td>\n",
       "      <td>0</td>\n",
       "    </tr>\n",
       "    <tr>\n",
       "      <th>46690</th>\n",
       "      <td>0</td>\n",
       "      <td>0</td>\n",
       "    </tr>\n",
       "    <tr>\n",
       "      <th>26981</th>\n",
       "      <td>1</td>\n",
       "      <td>0</td>\n",
       "    </tr>\n",
       "    <tr>\n",
       "      <th>7513</th>\n",
       "      <td>0</td>\n",
       "      <td>0</td>\n",
       "    </tr>\n",
       "    <tr>\n",
       "      <th>29924</th>\n",
       "      <td>0</td>\n",
       "      <td>0</td>\n",
       "    </tr>\n",
       "  </tbody>\n",
       "</table></div>"
      ],
      "text/plain": [
       "       Real  Predito\n",
       "37064     0        0\n",
       "27468     0        0\n",
       "3399      1        1\n",
       "15931     1        1\n",
       "47659     0        1\n",
       "...     ...      ...\n",
       "27661     0        0\n",
       "46690     0        0\n",
       "26981     1        0\n",
       "7513      0        0\n",
       "29924     0        0\n",
       "\n",
       "[12211 rows x 2 columns]"
      ]
     },
     "execution_count": 25,
     "metadata": {},
     "output_type": "execute_result"
    }
   ],
   "source": [
    "print(\"\\n---------------------------\\n\")\n",
    "print(\"Valores Preditos com dados de Teste :\\n\",y_pred_gbc)\n",
    "print(\"\\n---------------------------\\n\")\n",
    "print(\"Valores Reais com dados de teste :\\n\",y_test)\n",
    "\n",
    "#Avaliando o modelo preditivo\n",
    "\n",
    "# Calculando a Acurácia\n",
    "from sklearn import metrics\n",
    "print(\"Acurácia da Máquina = \", metrics.accuracy_score(y_test, y_pred_gbc))\n",
    "\n",
    "#Comparando Real e Predito com dados de Teste\n",
    "print(\"\\nReal vs Predito \\n------------------------------\\n\")\n",
    "error_df2 = pd.DataFrame({\"Real\" : y_test,\n",
    "                         \"Predito\" : y_pred_gbc})\n",
    "\n",
    "error_df2"
   ]
  },
  {
   "cell_type": "code",
   "execution_count": 33,
   "id": "8ca0ef7b",
   "metadata": {},
   "outputs": [
    {
     "name": "stdout",
     "output_type": "stream",
     "text": [
      "              precision    recall  f1-score   support\n",
      "\n",
      "           0       0.89      0.93      0.91      9280\n",
      "           1       0.73      0.63      0.68      2931\n",
      "\n",
      "    accuracy                           0.86     12211\n",
      "   macro avg       0.81      0.78      0.79     12211\n",
      "weighted avg       0.85      0.86      0.85     12211\n",
      "\n"
     ]
    }
   ],
   "source": [
    "cr_gbc = classification_report(y_test, y_pred_gbc)\n",
    "\n",
    "print(cr_gbc)"
   ]
  },
  {
   "cell_type": "markdown",
   "id": "3d182297",
   "metadata": {},
   "source": [
    "### selecionando features"
   ]
  },
  {
   "cell_type": "code",
   "execution_count": 26,
   "id": "414f007a",
   "metadata": {},
   "outputs": [
    {
     "data": {
      "text/plain": [
       "((48842, 5), (48842,))"
      ]
     },
     "execution_count": 26,
     "metadata": {},
     "output_type": "execute_result"
    }
   ],
   "source": [
    "X_f = df_trat[['age', 'hours_per_week', 'education', 'relationship', 'occupation']]\n",
    "y_f = df_trat['annual_income']\n",
    "\n",
    "X_f.shape, y_f.shape"
   ]
  },
  {
   "cell_type": "code",
   "execution_count": 27,
   "id": "06753f7b",
   "metadata": {},
   "outputs": [
    {
     "data": {
      "text/plain": [
       "array([[ 0.02599598, -0.03408696, -0.33254239, -0.2766849 , -1.48649959],\n",
       "       [ 0.82830842, -2.21303208, -0.33254239, -0.9008521 , -0.74068955],\n",
       "       [-0.04694151, -0.03408696,  0.18365954, -0.2766849 , -0.24348286],\n",
       "       ...,\n",
       "       [-0.04694151,  0.77292975, -0.33254239, -0.9008521 ,  0.75093053],\n",
       "       [ 0.39068346, -0.03408696, -0.33254239,  0.97164949, -1.48649959],\n",
       "       [-0.26575399,  1.57994645, -0.33254239, -0.9008521 , -0.74068955]])"
      ]
     },
     "execution_count": 27,
     "metadata": {},
     "output_type": "execute_result"
    }
   ],
   "source": [
    "s = StandardScaler()\n",
    "s.fit(X_f)\n",
    "X_f= s.transform(X_f)\n",
    "X_f"
   ]
  },
  {
   "cell_type": "code",
   "execution_count": 28,
   "id": "8b1b6189",
   "metadata": {},
   "outputs": [],
   "source": [
    "X_f_train, X_f_test, y_f_train, y_f_test = train_test_split(X_f, y_f)"
   ]
  },
  {
   "cell_type": "code",
   "execution_count": 29,
   "id": "5282c044",
   "metadata": {},
   "outputs": [
    {
     "name": "stdout",
     "output_type": "stream",
     "text": [
      "KNeighborsClassifier(n_neighbors=3)\n",
      "model score: 0.804\n",
      "\n",
      "---------------------------\n",
      "\n",
      "LogisticRegression()\n",
      "model score: 0.760\n",
      "\n",
      "---------------------------\n",
      "\n",
      "DecisionTreeClassifier()\n",
      "model score: 0.793\n",
      "\n",
      "---------------------------\n",
      "\n",
      "RandomForestClassifier()\n",
      "model score: 0.817\n",
      "\n",
      "---------------------------\n",
      "\n",
      "AdaBoostClassifier()\n",
      "model score: 0.835\n",
      "\n",
      "---------------------------\n",
      "\n",
      "GradientBoostingClassifier()\n",
      "model score: 0.839\n",
      "\n",
      "---------------------------\n",
      "\n",
      "PassiveAggressiveClassifier(C=0.5, max_iter=100)\n",
      "model score: 0.694\n",
      "\n",
      "---------------------------\n",
      "\n"
     ]
    }
   ],
   "source": [
    "#rodando os modelos\n",
    "classifiers = [\n",
    "    KNeighborsClassifier(3),\n",
    "    #SVC(kernel=\"rbf\", C=0.025, probability=True),\n",
    "    #SVC(),\n",
    "    LogisticRegression(),\n",
    "    DecisionTreeClassifier(),\n",
    "    RandomForestClassifier(),\n",
    "    AdaBoostClassifier(),\n",
    "    GradientBoostingClassifier(),\n",
    "    PassiveAggressiveClassifier(C=0.5, max_iter=100),\n",
    "]\n",
    "\n",
    "for classifier in classifiers:\n",
    "    pipe = Pipeline(steps=[(\"classifier\", classifier)])\n",
    "    pipe.fit(X_f_train, y_f_train)\n",
    "\n",
    "    print(classifier)\n",
    "    print(\"model score: %.3f\" % pipe.score(X_f_test, y_f_test))\n",
    "    print(\"\\n---------------------------\\n\")\n"
   ]
  },
  {
   "cell_type": "code",
   "execution_count": 30,
   "id": "85b768da",
   "metadata": {},
   "outputs": [
    {
     "name": "stdout",
     "output_type": "stream",
     "text": [
      "Accuracy: 68.91%\n"
     ]
    }
   ],
   "source": [
    "#Initialize a PassiveAggressiveClassifier\n",
    "pac=PassiveAggressiveClassifier(C=0.5, max_iter=100)\n",
    "pac.fit(X_train,y_train)\n",
    "\n",
    "#Predict on the test set and calculate accuracy\n",
    "y_pred2=pac.predict(X_test)\n",
    "score=accuracy_score(y_test,y_pred2)\n",
    "print(f'Accuracy: {round(score*100,2)}%')"
   ]
  },
  {
   "cell_type": "code",
   "execution_count": 31,
   "id": "92f0aa9e",
   "metadata": {},
   "outputs": [
    {
     "data": {
      "text/plain": [
       "0.8382605847186962"
      ]
     },
     "execution_count": 31,
     "metadata": {},
     "output_type": "execute_result"
    }
   ],
   "source": [
    "#Vamos tunar o modelo GradientBoostingClassifier\n",
    "clf3 = GradientBoostingClassifier(n_estimators=100, learning_rate=0.8,\n",
    "    max_depth=3, random_state=0).fit(X_f_train, y_f_train)\n",
    "clf3.score(X_f_test, y_f_test)"
   ]
  },
  {
   "cell_type": "code",
   "execution_count": 32,
   "id": "0d40df2d",
   "metadata": {},
   "outputs": [
    {
     "name": "stdout",
     "output_type": "stream",
     "text": [
      "\n",
      "---------------------------\n",
      "\n",
      "Valores Preditos com dados de Teste :\n",
      " [0 0 0 ... 1 0 0]\n",
      "\n",
      "---------------------------\n",
      "\n",
      "Valores Reais com dados de teste :\n",
      " 2411     0\n",
      "41614    0\n",
      "20429    0\n",
      "30934    1\n",
      "43989    0\n",
      "        ..\n",
      "12983    0\n",
      "25090    1\n",
      "25984    0\n",
      "17616    0\n",
      "11373    0\n",
      "Name: annual_income, Length: 12211, dtype: int32\n",
      "Acurácia da Máquina =  0.8382605847186962\n",
      "\n",
      "Real vs Predito \n",
      "------------------------------\n",
      "\n"
     ]
    },
    {
     "data": {
      "text/html": [
       "<div><div id=a7d77dbd-79f1-4e60-92c4-3afa988276f1 style=\"display:none; background-color:#9D6CFF; color:white; width:200px; height:30px; padding-left:5px; border-radius:4px; flex-direction:row; justify-content:space-around; align-items:center;\" onmouseover=\"this.style.backgroundColor='#BA9BF8'\" onmouseout=\"this.style.backgroundColor='#9D6CFF'\" onclick=\"window.commands?.execute('create-mitosheet-from-dataframe-output');\">See Full Dataframe in Mito</div> <script> if (window.commands.hasCommand('create-mitosheet-from-dataframe-output')) document.getElementById('a7d77dbd-79f1-4e60-92c4-3afa988276f1').style.display = 'flex' </script> <table border=\"1\" class=\"dataframe\">\n",
       "  <thead>\n",
       "    <tr style=\"text-align: right;\">\n",
       "      <th></th>\n",
       "      <th>Real</th>\n",
       "      <th>Predito</th>\n",
       "    </tr>\n",
       "  </thead>\n",
       "  <tbody>\n",
       "    <tr>\n",
       "      <th>2411</th>\n",
       "      <td>0</td>\n",
       "      <td>0</td>\n",
       "    </tr>\n",
       "    <tr>\n",
       "      <th>41614</th>\n",
       "      <td>0</td>\n",
       "      <td>0</td>\n",
       "    </tr>\n",
       "    <tr>\n",
       "      <th>20429</th>\n",
       "      <td>0</td>\n",
       "      <td>0</td>\n",
       "    </tr>\n",
       "    <tr>\n",
       "      <th>30934</th>\n",
       "      <td>1</td>\n",
       "      <td>1</td>\n",
       "    </tr>\n",
       "    <tr>\n",
       "      <th>43989</th>\n",
       "      <td>0</td>\n",
       "      <td>0</td>\n",
       "    </tr>\n",
       "    <tr>\n",
       "      <th>...</th>\n",
       "      <td>...</td>\n",
       "      <td>...</td>\n",
       "    </tr>\n",
       "    <tr>\n",
       "      <th>12983</th>\n",
       "      <td>0</td>\n",
       "      <td>0</td>\n",
       "    </tr>\n",
       "    <tr>\n",
       "      <th>25090</th>\n",
       "      <td>1</td>\n",
       "      <td>1</td>\n",
       "    </tr>\n",
       "    <tr>\n",
       "      <th>25984</th>\n",
       "      <td>0</td>\n",
       "      <td>1</td>\n",
       "    </tr>\n",
       "    <tr>\n",
       "      <th>17616</th>\n",
       "      <td>0</td>\n",
       "      <td>0</td>\n",
       "    </tr>\n",
       "    <tr>\n",
       "      <th>11373</th>\n",
       "      <td>0</td>\n",
       "      <td>0</td>\n",
       "    </tr>\n",
       "  </tbody>\n",
       "</table></div>"
      ],
      "text/plain": [
       "       Real  Predito\n",
       "2411      0        0\n",
       "41614     0        0\n",
       "20429     0        0\n",
       "30934     1        1\n",
       "43989     0        0\n",
       "...     ...      ...\n",
       "12983     0        0\n",
       "25090     1        1\n",
       "25984     0        1\n",
       "17616     0        0\n",
       "11373     0        0\n",
       "\n",
       "[12211 rows x 2 columns]"
      ]
     },
     "execution_count": 32,
     "metadata": {},
     "output_type": "execute_result"
    }
   ],
   "source": [
    "y_pred_gbc2 = clf3.predict(X_f_test)\n",
    "\n",
    "print(\"\\n---------------------------\\n\")\n",
    "print(\"Valores Preditos com dados de Teste :\\n\",y_pred_gbc2)\n",
    "print(\"\\n---------------------------\\n\")\n",
    "print(\"Valores Reais com dados de teste :\\n\",y_f_test)\n",
    "\n",
    "#Avaliando o modelo preditivo\n",
    "\n",
    "# Calculando a Acurácia\n",
    "from sklearn import metrics\n",
    "print(\"Acurácia da Máquina = \", metrics.accuracy_score(y_f_test, y_pred_gbc2))\n",
    "\n",
    "#Comparando Real e Predito com dados de Teste\n",
    "print(\"\\nReal vs Predito \\n------------------------------\\n\")\n",
    "error_df3 = pd.DataFrame({\"Real\" : y_f_test,\n",
    "                         \"Predito\" : y_pred_gbc2})\n",
    "\n",
    "error_df3"
   ]
  },
  {
   "cell_type": "code",
   "execution_count": null,
   "id": "193e3a87",
   "metadata": {},
   "outputs": [],
   "source": []
  }
 ],
 "metadata": {
  "kernelspec": {
   "display_name": "Python 3 (ipykernel)",
   "language": "python",
   "name": "python3"
  },
  "language_info": {
   "codemirror_mode": {
    "name": "ipython",
    "version": 3
   },
   "file_extension": ".py",
   "mimetype": "text/x-python",
   "name": "python",
   "nbconvert_exporter": "python",
   "pygments_lexer": "ipython3",
   "version": "3.8.0"
  }
 },
 "nbformat": 4,
 "nbformat_minor": 5
}
